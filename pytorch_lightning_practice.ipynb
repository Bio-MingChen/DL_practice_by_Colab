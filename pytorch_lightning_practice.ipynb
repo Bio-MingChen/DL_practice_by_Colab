{
  "nbformat": 4,
  "nbformat_minor": 0,
  "metadata": {
    "colab": {
      "provenance": [],
      "name": "pytorch_lightning_practice.ipynb",
      "authorship_tag": "ABX9TyOaO9QNciOoisRS8UmyxQms",
      "include_colab_link": true
    },
    "kernelspec": {
      "name": "python3",
      "display_name": "Python 3"
    },
    "language_info": {
      "name": "python"
    }
  },
  "cells": [
    {
      "cell_type": "markdown",
      "metadata": {
        "id": "view-in-github",
        "colab_type": "text"
      },
      "source": [
        "<a href=\"https://colab.research.google.com/github/Bio-MingChen/DL_practice_by_Colab/blob/main/pytorch_lightning_practice.ipynb\" target=\"_parent\"><img src=\"https://colab.research.google.com/assets/colab-badge.svg\" alt=\"Open In Colab\"/></a>"
      ]
    },
    {
      "cell_type": "code",
      "execution_count": null,
      "metadata": {
        "id": "aiMCfInZKK0h"
      },
      "outputs": [],
      "source": []
    },
    {
      "cell_type": "code",
      "metadata": {
        "id": "02587647"
      },
      "source": [
        "import torch\n",
        "import torch.nn as nn\n",
        "import torch.optim as optim\n",
        "from torch.utils.data import Dataset, DataLoader\n",
        "\n",
        "import pytorch_lightning as pl\n",
        "\n",
        "# 1. 定义一个简单的 PyTorch Dataset\n",
        "class MyDataset(Dataset):\n",
        "    def __init__(self, num_samples=1000):\n",
        "        self.num_samples = num_samples\n",
        "        # 随机生成一些模拟数据\n",
        "        self.features = torch.randn(num_samples, 10)\n",
        "        self.labels = torch.randint(0, 2, (num_samples,)) # 0 或 1 的标签\n",
        "\n",
        "    def __len__(self):\n",
        "        return self.num_samples\n",
        "\n",
        "    def __getitem__(self, idx):\n",
        "        return self.features[idx], self.labels[idx]\n",
        "\n",
        "# 2. 定义一个 PyTorch Lightning Module\n",
        "class MyLightningModule(pl.LightningModule):\n",
        "    def __init__(self, learning_rate=0.001):\n",
        "        super().__init__()\n",
        "        self.learning_rate = learning_rate\n",
        "        # 定义一个简单的模型\n",
        "        self.linear = nn.Linear(10, 2)\n",
        "        # 定义损失函数\n",
        "        self.criterion = nn.CrossEntropyLoss()\n",
        "\n",
        "    def forward(self, x):\n",
        "        # 前向传播\n",
        "        return self.linear(x)\n",
        "\n",
        "    def training_step(self, batch, batch_idx):\n",
        "        # 训练步骤\n",
        "        x, y = batch\n",
        "        logits = self(x)\n",
        "        loss = self.criterion(logits, y)\n",
        "        # 记录训练损失\n",
        "        self.log('train_loss', loss)\n",
        "        return loss\n",
        "\n",
        "    def configure_optimizers(self):\n",
        "        # 配置优化器\n",
        "        optimizer = optim.Adam(self.parameters(), lr=self.learning_rate)\n",
        "        return optimizer\n",
        "\n",
        "    def train_dataloader(self):\n",
        "        # 配置训练数据加载器\n",
        "        dataset = MyDataset()\n",
        "        return DataLoader(dataset, batch_size=32, shuffle=True)\n",
        "\n",
        "# 3. 实例化数据集和模型\n",
        "dataset = MyDataset()\n",
        "model = MyLightningModule()\n",
        "\n",
        "# 4. 实例化 PyTorch Lightning Trainer\n",
        "# 可以设置训练的轮数 (epochs), GPU 使用等参数\n",
        "trainer = pl.Trainer(max_epochs=5)\n",
        "\n",
        "# 5. 开始训练\n",
        "trainer.fit(model)\n",
        "\n",
        "print(\"训练完成！\")"
      ],
      "execution_count": null,
      "outputs": []
    },
    {
      "cell_type": "markdown",
      "metadata": {
        "id": "e611f15e"
      },
      "source": [
        "**代码说明：**\n",
        "\n",
        "1.  **`MyDataset` 类:**\n",
        "    *   这是一个标准的 PyTorch `Dataset` 类，用于加载数据。\n",
        "    *   `__init__` 方法用于初始化数据集，这里生成了一些随机的模拟数据（特征和标签）。\n",
        "    *   `__len__` 方法返回数据集的大小。\n",
        "    *   `__getitem__` 方法根据索引返回一个数据样本 (特征和标签)。\n",
        "\n",
        "2.  **`MyLightningModule` 类:**\n",
        "    *   这是 PyTorch Lightning 的核心，一个 `pl.LightningModule`。\n",
        "    *   `__init__` 方法定义了模型的结构 (`nn.Linear`) 和损失函数 (`nn.CrossEntropyLoss`)。\n",
        "    *   `forward` 方法定义了模型的前向传播过程。\n",
        "    *   `training_step` 方法定义了训练过程中的一个步骤，接收一个 batch 的数据，计算损失，并记录训练损失。\n",
        "    *   `configure_optimizers` 方法配置了用于训练的优化器 (这里使用了 Adam)。\n",
        "    *   `train_dataloader` 方法配置了训练数据加载器，用于批量加载数据进行训练。\n",
        "\n",
        "3.  **实例化数据集和模型:**\n",
        "    *   创建 `MyDataset` 和 `MyLightningModule` 的实例。\n",
        "\n",
        "4.  **实例化 PyTorch Lightning Trainer:**\n",
        "    *   `pl.Trainer` 是 PyTorch Lightning 的训练引擎。\n",
        "    *   `max_epochs` 参数设置了最大训练轮数。\n",
        "\n",
        "5.  **开始训练:**\n",
        "    *   调用 `trainer.fit(model)` 方法开始训练模型。Trainer 会自动处理训练循环、优化器步进、损失计算、日志记录等。\n",
        "\n",
        "这个例子展示了 PyTorch Lightning 的基本用法，你可以根据自己的任务修改 `MyDataset` 和 `MyLightningModule` 来构建更复杂的模型和训练流程。"
      ]
    }
  ]
}