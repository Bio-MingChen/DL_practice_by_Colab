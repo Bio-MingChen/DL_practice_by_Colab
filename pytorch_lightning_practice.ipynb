{
  "nbformat": 4,
  "nbformat_minor": 0,
  "metadata": {
    "colab": {
      "provenance": [],
      "name": "pytorch_lightning_practice.ipynb",
      "machine_shape": "hm",
      "gpuType": "A100",
      "authorship_tag": "ABX9TyOajvFWJJ6CYwiooAubIgzH",
      "include_colab_link": true
    },
    "kernelspec": {
      "name": "python3",
      "display_name": "Python 3"
    },
    "language_info": {
      "name": "python"
    },
    "accelerator": "GPU",
    "widgets": {
      "application/vnd.jupyter.widget-state+json": {
        "b7e7b378fd42427a96555ef2f84230cd": {
          "model_module": "@jupyter-widgets/controls",
          "model_name": "HBoxModel",
          "model_module_version": "1.5.0",
          "state": {
 "_dom_classes": [],
            "_model_module": "@jupyter-widgets/controls",
            "_model_module_version": "1.5.0",
            "_model_name": "HBoxModel",
            "_view_count": null,
            "_view_module": "@jupyter-widgets/controls",
            "_view_module_version": "1.5.0",
            "_view_name": "HBoxView",
            "box_style": "",
            "children": [
              "IPY_MODEL_da88b5ec98a044338b139c6fa6ced810",
              "IPY_MODEL_a1f87f4cc55b4d79b6ade34442cb3b5a",
              "IPY_MODEL_d29b3cd1a8fe48b0ad567dcd9e90d4b4"
            ],
            "layout": "IPY_MODEL_f45060e49c33446c998764d34d455878"
          }
        },
        "da88b5ec98a044338b139c6fa6ced810": {
          "model_module": "@jupyter-widgets/controls",
          "model_name": "HTMLModel",
          "model_module_version": "1.5.0",
          "state": {
            "_dom_classes": [],
            "_model_module": "@jupyter-widgets/controls",
            "_model_module_version": "1.5.0",
            "_model_name": "HTMLModel",
            "_view_count": null,
            "_view_module": "@jupyter-widgets/controls",
            "_view_module_version": "1.5.0",
            "_view_name": "HTMLView",
            "description": "",
            "description_tooltip": null,
            "layout": "IPY_MODEL_0c50f89d2c6d42739e14ab2d1350edd4",
            "placeholder": "​",
            "style": "IPY_MODEL_ef5488f14f914a329f1071e241d80004",
            "value": "Epoch 4: 100%"
          }
        },
        "a1f87f4cc55b4d79b6ade34442cb3b5a": {
          "model_module": "@jupyter-widgets/controls",
          "model_name": "FloatProgressModel",
          "model_module_version": "1.5.0",
          "state": {
            "_dom_classes": [],
            "_model_module": "@jupyter-widgets/controls",
            "_model_module_version": "1.5.0",
            "_model_name": "FloatProgressModel",
            "_view_count": null,
            "_view_module": "@jupyter-widgets/controls",
            "_view_module_version": "1.5.0",
            "_view_name": "ProgressView",
            "bar_style": "success",
            "description": "",
            "description_tooltip": null,
            "layout": "IPY_MODEL_0c37eb586e83439b8baa907dc1fda19c",
            "max": 32,
            "min": 0,
            "orientation": "horizontal",
            "style": "IPY_MODEL_d91465348997498b9a4cb6e6774aabaa",
            "value": 32
          }
        },
        "d29b3cd1a8fe48b0ad567dcd9e90d4b4": {
          "model_module": "@jupyter-widgets/controls",
          "model_name": "HTMLModel",
          "model_module_version": "1.5.0",
          "state": {
            "_dom_classes": [],
            "_model_module": "@jupyter-widgets/controls",
            "_model_module_version": "1.5.0",
            "_model_name": "HTMLModel",
            "_view_count": null,
            "_view_module": "@jupyter-widgets/controls",
            "_view_module_version": "1.5.0",
            "_view_name": "HTMLView",
            "description": "",
            "description_tooltip": null,
            "layout": "IPY_MODEL_22a20d9515e449a68edcd7d5f4aa502f",
            "placeholder": "​",
            "style": "IPY_MODEL_5d2d04bf09fa491bafda273138952e7d",
            "value": " 32/32 [00:00&lt;00:00, 337.33it/s, v_num=0]"
          }
        },
        "f45060e49c33446c998764d34d455878": {
          "model_module": "@jupyter-widgets/base",
          "model_name": "LayoutModel",
          "model_module_version": "1.2.0",
          "state": {
            "_model_module": "@jupyter-widgets/base",
            "_model_module_version": "1.2.0",
            "_model_name": "LayoutModel",
            "_view_count": null,
            "_view_module": "@jupyter-widgets/base",
            "_view_module_version": "1.2.0",
            "_view_name": "LayoutView",
            "align_content": null,
            "align_items": null,
            "align_self": null,
            "border": null,
            "bottom": null,
            "display": "inline-flex",
            "flex": null,
            "flex_flow": "row wrap",
            "grid_area": null,
            "grid_auto_columns": null,
            "grid_auto_flow": null,
            "grid_auto_rows": null,
            "grid_column": null,
            "grid_gap": null,
            "grid_row": null,
            "grid_template_areas": null,
            "grid_template_columns": null,
            "grid_template_rows": null,
            "height": null,
            "justify_content": null,
            "justify_items": null,
            "left": null,
            "margin": null,
            "max_height": null,
            "max_width": null,
            "min_height": null,
            "min_width": null,
            "object_fit": null,
            "object_position": null,
            "order": null,
            "overflow": null,
            "overflow_x": null,
            "overflow_y": null,
            "padding": null,
            "right": null,
            "top": null,
            "visibility": null,
            "width": "100%"
          }
        },
        "0c50f89d2c6d42739e14ab2d1350edd4": {
          "model_module": "@jupyter-widgets/base",
          "model_name": "LayoutModel",
          "model_module_version": "1.2.0",
          "state": {
            "_model_module": "@jupyter-widgets/base",
            "_model_module_version": "1.2.0",
            "_model_name": "LayoutModel",
            "_view_count": null,
            "_view_module": "@jupyter-widgets/base",
            "_view_module_version": "1.2.0",
            "_view_name": "LayoutView",
            "align_content": null,
            "align_items": null,
            "align_self": null,
            "border": null,
            "bottom": null,
            "display": null,
            "flex": null,
            "flex_flow": null,
            "grid_area": null,
            "grid_auto_columns": null,
            "grid_auto_flow": null,
            "grid_auto_rows": null,
            "grid_column": null,
            "grid_gap": null,
            "grid_row": null,
            "grid_template_areas": null,
            "grid_template_columns": null,
            "grid_template_rows": null,
            "height": null,
            "justify_content": null,
            "justify_items": null,
            "left": null,
            "margin": null,
            "max_height": null,
            "max_width": null,
            "min_height": null,
            "min_width": null,
            "object_fit": null,
            "object_position": null,
            "order": null,
            "overflow": null,
            "overflow_x": null,
            "overflow_y": null,
            "padding": null,
            "right": null,
            "top": null,
            "visibility": null,
            "width": null
          }
        },
        "ef5488f14f914a329f1071e241d80004": {
          "model_module": "@jupyter-widgets/controls",
          "model_name": "DescriptionStyleModel",
          "model_module_version": "1.5.0",
          "state": {
            "_model_module": "@jupyter-widgets/controls",
            "_model_module_version": "1.5.0",
            "_model_name": "DescriptionStyleModel",
            "_view_count": null,
            "_view_module": "@jupyter-widgets/base",
            "_view_module_version": "1.2.0",
            "_view_name": "StyleView",
            "description_width": ""
          }
        },
        "0c37eb586e83439b8baa907dc1fda19c": {
          "model_module": "@jupyter-widgets/base",
          "model_name": "LayoutModel",
          "model_module_version": "1.2.0",
          "state": {
            "_model_module": "@jupyter-widgets/base",
            "_model_module_version": "1.2.0",
            "_model_name": "LayoutModel",
            "_view_count": null,
            "_view_module": "@jupyter-widgets/base",
            "_view_module_version": "1.2.0",
            "_view_name": "LayoutView",
            "align_content": null,
            "align_items": null,
            "align_self": null,
            "border": null,
            "bottom": null,
            "display": null,
            "flex": "2",
            "flex_flow": null,
            "grid_area": null,
            "grid_auto_columns": null,
            "grid_auto_flow": null,
            "grid_auto_rows": null,
            "grid_column": null,
            "grid_gap": null,
            "grid_row": null,
            "grid_template_areas": null,
            "grid_template_columns": null,
            "grid_template_rows": null,
            "height": null,
            "justify_content": null,
            "justify_items": null,
            "left": null,
            "margin": null,
            "max_height": null,
            "max_width": null,
            "min_height": null,
            "min_width": null,
            "object_fit": null,
            "object_position": null,
            "order": null,
            "overflow": null,
            "overflow_x": null,
            "overflow_y": null,
            "padding": null,
            "right": null,
            "top": null,
            "visibility": null,
            "width": null
          }
        },
        "d91465348997498b9a4cb6e6774aabaa": {
          "model_module": "@jupyter-widgets/controls",
          "model_name": "ProgressStyleModel",
          "model_module_version": "1.5.0",
          "state": {
            "_model_module": "@jupyter-widgets/controls",
            "_model_module_version": "1.5.0",
            "_model_name": "ProgressStyleModel",
            "_view_count": null,
            "_view_module": "@jupyter-widgets/base",
            "_view_module_version": "1.2.0",
            "_view_name": "StyleView",
            "bar_color": null,
            "description_width": ""
          }
        },
        "22a20d9515e449a68edcd7d5f4aa502f": {
          "model_module": "@jupyter-widgets/base",
          "model_name": "LayoutModel",
          "model_module_version": "1.2.0",
          "state": {
            "_model_module": "@jupyter-widgets/base",
            "_model_module_version": "1.2.0",
            "_model_name": "LayoutModel",
            "_view_count": null,
            "_view_module": "@jupyter-widgets/base",
            "_view_module_version": "1.2.0",
            "_view_name": "LayoutView",
            "align_content": null,
            "align_items": null,
            "align_self": null,
            "border": null,
            "bottom": null,
            "display": null,
            "flex": null,
            "flex_flow": null,
            "grid_area": null,
            "grid_auto_columns": null,
            "grid_auto_flow": null,
            "grid_auto_rows": null,
            "grid_column": null,
            "grid_gap": null,
            "grid_row": null,
            "grid_template_areas": null,
            "grid_template_columns": null,
            "grid_template_rows": null,
            "height": null,
            "justify_content": null,
            "justify_items": null,
            "left": null,
            "margin": null,
            "max_height": null,
            "max_width": null,
            "min_height": null,
            "min_width": null,
            "object_fit": null,
            "object_position": null,
            "order": null,
            "overflow": null,
            "overflow_x": null,
            "overflow_y": null,
            "padding": null,
            "right": null,
            "top": null,
            "visibility": null,
            "width": null
          }
        },
        "5d2d04bf09fa491bafda273138952e7d": {
          "model_module": "@jupyter-widgets/controls",
          "model_name": "DescriptionStyleModel",
          "model_module_version": "1.5.0",
          "state": {
            "_model_module": "@jupyter-widgets/controls",
            "_model_module_version": "1.5.0",
            "_model_name": "DescriptionStyleModel",
            "_view_count": null,
            "_view_module": "@jupyter-widgets/base",
            "_view_module_version": "1.2.0",
            "_view_name": "StyleView",
            "description_width": ""
          }
        }
      }
    }
  },
  "cells": [
    {
      "cell_type": "markdown",
      "metadata": {
        "id": "view-in-github",
        "colab_type": "text"
      },
      "source": [
        "<a href=\"https://colab.research.google.com/github/Bio-MingChen/DL_practice_by_Colab/blob/main/pytorch_lightning_practice.ipynb\" target=\"_parent\"><img src=\"https://colab.research.google.com/assets/colab-badge.svg\" alt=\"Open In Colab\"/></a>"
      ]
    },
    {
      "cell_type": "code",
      "execution_count": 1,
      "metadata": {
        "id": "aiMCfInZKK0h"
      },
      "outputs": [],
      "source": [
        "from IPython.display import clear_output\n",
        "!pip install lightning\n",
        "clear_output()"
      ]
    },
    {
      "cell_type": "code",
      "metadata": {
        "colab": {
          "base_uri": "https://localhost:8080/",
          "height": 473,
          "referenced_widgets": [
            "b7e7b378fd42427a96555ef2f84230cd",
            "da88b5ec98a044338b139c6fa6ced810",
            "a1f87f4cc55b4d79b6ade34442cb3b5a",
            "d29b3cd1a8fe48b0ad567dcd9e90d4b4",
            "f45060e49c33446c998764d34d455878",
            "0c50f89d2c6d42739e14ab2d1350edd4",
            "ef5488f14f914a329f1071e241d80004",
            "0c37eb586e83439b8baa907dc1fda19c",
            "d91465348997498b9a4cb6e6774aabaa",
            "22a20d9515e449a68edcd7d5f4aa502f",
            "5d2d04bf09fa491bafda273138952e7d"
          ]
        },
        "id": "02587647",
        "outputId": "701bd9d2-cac0-4a1d-a215-043d15febb3e"
      },
      "source": [
        "import torch\n",
        "import torch.nn as nn\n",
        "import torch.optim as optim\n",
        "from torch.utils.data import Dataset, DataLoader\n",
        "\n",
        "import pytorch_lightning as pl\n",
        "\n",
        "# 1. 定义一个简单的 PyTorch Dataset\n",
        "class MyDataset(Dataset):\n",
        "    def __init__(self, num_samples=1000):\n",
        "        self.num_samples = num_samples\n",
        "        # 随机生成一些模拟数据\n",
        "        self.features = torch.randn(num_samples, 10)\n",
        "        self.labels = torch.randint(0, 2, (num_samples,)) # 0 或 1 的标签\n",
        "\n",
        "    def __len__(self):\n",
        "        return self.num_samples\n",
        "\n",
        "    def __getitem__(self, idx):\n",
        "        return self.features[idx], self.labels[idx]\n",
        "\n",
        "# 2. 定义一个 PyTorch Lightning Module\n",
        "class MyLightningModule(pl.LightningModule):\n",
        "    def __init__(self, learning_rate=0.001):\n",
        "        super().__init__()\n",
        "        self.learning_rate = learning_rate\n",
        "        # 定义一个简单的模型\n",
        "        self.linear = nn.Linear(10, 2)\n",
        "        # 定义损失函数\n",
        "        self.criterion = nn.CrossEntropyLoss()\n",
        "\n",
        "    def forward(self, x):\n",
        "        # 前向传播\n",
        "        return self.linear(x)\n",
        "\n",
        "    def training_step(self, batch, batch_idx):\n",
        "        # 训练步骤\n",
        "        x, y = batch\n",
        "        logits = self(x)\n",
        "        loss = self.criterion(logits, y)\n",
        "        # 记录训练损失\n",
        "        self.log('train_loss', loss)\n",
        "        return loss\n",
        "\n",
        "    def configure_optimizers(self):\n",
        "        # 配置优化器\n",
        "        optimizer = optim.Adam(self.parameters(), lr=self.learning_rate)\n",
        "        return optimizer\n",
        "\n",
        "    def train_dataloader(self):\n",
        "        # 配置训练数据加载器\n",
        "        dataset = MyDataset()\n",
        "        return DataLoader(dataset, batch_size=32, shuffle=True)\n",
        "\n",
        "# 3. 实例化数据集和模型\n",
        "dataset = MyDataset()\n",
        "model = MyLightningModule()\n",
        "\n",
        "# 4. 实例化 PyTorch Lightning Trainer\n",
        "# 可以设置训练的轮数 (epochs), GPU 使用等参数\n",
        "trainer = pl.Trainer(max_epochs=5)\n",
        "\n",
        "# 5. 开始训练\n",
        "trainer.fit(model)\n",
        "\n",
        "print(\"训练完成！\")"
      ],
      "execution_count": 2,
      "outputs": [
        {
          "output_type": "stream",
          "name": "stderr",
          "text": [
            "INFO:pytorch_lightning.utilities.rank_zero:💡 Tip: For seamless cloud uploads and versioning, try installing [litmodels](https://pypi.org/project/litmodels/) to enable LitModelCheckpoint, which syncs automatically with the Lightning model registry.\n",
            "INFO:pytorch_lightning.utilities.rank_zero:GPU available: True (cuda), used: True\n",
            "INFO:pytorch_lightning.utilities.rank_zero:TPU available: False, using: 0 TPU cores\n",
            "INFO:pytorch_lightning.utilities.rank_zero:HPU available: False, using: 0 HPUs\n",
            "INFO:pytorch_lightning.utilities.rank_zero:You are using a CUDA device ('NVIDIA A100-SXM4-40GB') that has Tensor Cores. To properly utilize them, you should set `torch.set_float32_matmul_precision('medium' | 'high')` which will trade-off precision for performance. For more details, read https://pytorch.org/docs/stable/generated/torch.set_float32_matmul_precision.html#torch.set_float32_matmul_precision\n",
            "INFO:pytorch_lightning.accelerators.cuda:LOCAL_RANK: 0 - CUDA_VISIBLE_DEVICES: [0]\n",
            "INFO:pytorch_lightning.callbacks.model_summary:\n",
            "  | Name      | Type             | Params | Mode \n",
            "-------------------------------------------------------\n",
            "0 | linear    | Linear           | 22     | train\n",
            "1 | criterion | CrossEntropyLoss | 0      | train\n",
            "-------------------------------------------------------\n",
            "22        Trainable params\n",
            "0         Non-trainable params\n",
            "22        Total params\n",
            "0.000     Total estimated model params size (MB)\n",
            "2         Modules in train mode\n",
            "0         Modules in eval mode\n",
            "/usr/local/lib/python3.11/dist-packages/pytorch_lightning/trainer/connectors/data_connector.py:425: The 'train_dataloader' does not have many workers which may be a bottleneck. Consider increasing the value of the `num_workers` argument` to `num_workers=11` in the `DataLoader` to improve performance.\n",
            "/usr/local/lib/python3.11/dist-packages/pytorch_lightning/loops/fit_loop.py:310: The number of training batches (32) is smaller than the logging interval Trainer(log_every_n_steps=50). Set a lower value for log_every_n_steps if you want to see logs for the training epoch.\n"
          ]
        },
        {
          "output_type": "display_data",
          "data": {
            "text/plain": [
              "Training: |          | 0/? [00:00<?, ?it/s]"
            ],
            "application/vnd.jupyter.widget-view+json": {
              "version_major": 2,
              "version_minor": 0,
              "model_id": "b7e7b378fd42427a96555ef2f84230cd"
            }
          },
          "metadata": {}
        },
        {
          "output_type": "stream",
          "name": "stderr",
          "text": [
            "INFO:pytorch_lightning.utilities.rank_zero:`Trainer.fit` stopped: `max_epochs=5` reached.\n"
          ]
        },
        {
          "output_type": "stream",
          "name": "stdout",
          "text": [
            "训练完成！\n"
          ]
        }
      ]
    },
    {
      "cell_type": "markdown",
      "metadata": {
        "id": "e611f15e"
      },
      "source": [
        "**代码说明：**\n",
        "\n",
        "1.  **`MyDataset` 类:**\n",
        "    *   这是一个标准的 PyTorch `Dataset` 类，用于加载数据。\n",
        "    *   `__init__` 方法用于初始化数据集，这里生成了一些随机的模拟数据（特征和标签）。\n",
        "    *   `__len__` 方法返回数据集的大小。\n",
        "    *   `__getitem__` 方法根据索引返回一个数据样本 (特征和标签)。\n",
        "\n",
        "2.  **`MyLightningModule` 类:**\n",
        "    *   这是 PyTorch Lightning 的核心，一个 `pl.LightningModule`。\n",
        "    *   `__init__` 方法定义了模型的结构 (`nn.Linear`) 和损失函数 (`nn.CrossEntropyLoss`)。\n",
        "    *   `forward` 方法定义了模型的前向传播过程。\n",
        "    *   `training_step` 方法定义了训练过程中的一个步骤，接收一个 batch 的数据，计算损失，并记录训练损失。\n",
        "    *   `configure_optimizers` 方法配置了用于训练的优化器 (这里使用了 Adam)。\n",
        "    *   `train_dataloader` 方法配置了训练数据加载器，用于批量加载数据进行训练。\n",
        "\n",
        "3.  **实例化数据集和模型:**\n",
        "    *   创建 `MyDataset` 和 `MyLightningModule` 的实例。\n",
        "\n",
        "4.  **实例化 PyTorch Lightning Trainer:**\n",
        "    *   `pl.Trainer` 是 PyTorch Lightning 的训练引擎。\n",
        "    *   `max_epochs` 参数设置了最大训练轮数。\n",
        "\n",
        "5.  **开始训练:**\n",
        "    *   调用 `trainer.fit(model)` 方法开始训练模型。Trainer 会自动处理训练循环、优化器步进、损失计算、日志记录等。\n",
        "\n",
        "这个例子展示了 PyTorch Lightning 的基本用法，你可以根据自己的任务修改 `MyDataset` 和 `MyLightningModule` 来构建更复杂的模型和训练流程。"
      ]
    },
    {
      "cell_type": "code",
      "metadata": {
        "id": "ccd220f2"
      },
      "source": [],
      "execution_count": null,
      "outputs": []
    }
  ]
}
